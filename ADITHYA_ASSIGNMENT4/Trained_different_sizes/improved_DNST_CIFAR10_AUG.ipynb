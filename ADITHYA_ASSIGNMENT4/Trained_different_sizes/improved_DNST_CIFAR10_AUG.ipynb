{
  "nbformat": 4,
  "nbformat_minor": 0,
  "metadata": {
    "colab": {
      "name": "improved_DNST_CIFAR10_AUG.ipynb",
      "version": "0.3.2",
      "views": {},
      "default_view": {},
      "provenance": [
        {
          "file_id": "1pFn0wvWOKj93A4_-pjMxsxR96VDyN-NF",
          "timestamp": 1525939346965
        },
        {
          "file_id": "1_1kwmwgL7g94jI6BEtcgm-D2_AFk0zxK",
          "timestamp": 1519101209834
        }
      ],
      "collapsed_sections": []
    },
    "kernelspec": {
      "display_name": "Python 3",
      "language": "python",
      "name": "python3"
    },
    "accelerator": "GPU"
  },
  "cells": [
    {
      "metadata": {
        "id": "K70hAckqg0EA",
        "colab_type": "code",
        "colab": {
          "autoexec": {
            "startup": false,
            "wait_interval": 0
          }
        }
      },
      "cell_type": "code",
      "source": [
        "# https://keras.io/\n",
        "!pip install -q keras\n",
        "import keras"
      ],
      "execution_count": 0,
      "outputs": []
    },
    {
      "metadata": {
        "id": "wVIx_KIigxPV",
        "colab_type": "code",
        "colab": {
          "autoexec": {
            "startup": false,
            "wait_interval": 0
          }
        }
      },
      "cell_type": "code",
      "source": [
        "import keras\n",
        "from keras.datasets import cifar10\n",
        "from keras.models import Model, Sequential\n",
        "from keras.layers import Dense, Dropout, Flatten, Input, AveragePooling2D, merge, Activation ,GlobalAveragePooling2D\n",
        "from keras.layers import Conv2D, MaxPooling2D, BatchNormalization\n",
        "from keras.layers import Concatenate\n",
        "from keras.optimizers import Adam\n",
        "from keras.preprocessing.image import ImageDataGenerator\n",
        "import scipy \n",
        "import numpy as np\n"
      ],
      "execution_count": 0,
      "outputs": []
    },
    {
      "metadata": {
        "id": "UNHw6luQg3gc",
        "colab_type": "code",
        "colab": {
          "autoexec": {
            "startup": false,
            "wait_interval": 0
          }
        }
      },
      "cell_type": "code",
      "source": [
        "# this part will prevent tensorflow to allocate all the avaliable GPU Memory\n",
        "# backend\n",
        "import tensorflow as tf\n",
        "from keras import backend as k\n",
        "\n",
        "# Don't pre-allocate memory; allocate as-needed\n",
        "config = tf.ConfigProto()\n",
        "config.gpu_options.allow_growth = True\n",
        "\n",
        "# Create a session with the above options specified.\n",
        "k.tensorflow_backend.set_session(tf.Session(config=config))"
      ],
      "execution_count": 0,
      "outputs": []
    },
    {
      "metadata": {
        "id": "dsO_yGxcg5D8",
        "colab_type": "code",
        "colab": {
          "autoexec": {
            "startup": false,
            "wait_interval": 0
          }
        }
      },
      "cell_type": "code",
      "source": [
        "# Hyperparameters\n",
        "batch_size = 128\n",
        "num_classes = 10\n",
        "epochs = 50\n",
        "l = 100\n",
        "num_filter = 12\n",
        "compression = 0.5\n",
        "dropout_rate = 0.2\n",
        "val_batch_size=60"
      ],
      "execution_count": 0,
      "outputs": []
    },
    {
      "metadata": {
        "id": "mB7o3zu1g6eT",
        "colab_type": "code",
        "colab": {
          "autoexec": {
            "startup": false,
            "wait_interval": 0
          },
          "base_uri": "https://localhost:8080/",
          "height": 107
        },
        "outputId": "37392de3-e993-4e71-e52d-5606fee0e80a",
        "executionInfo": {
          "status": "ok",
          "timestamp": 1526016431051,
          "user_tz": -330,
          "elapsed": 7946,
          "user": {
            "displayName": "superamazingguy com",
            "photoUrl": "https://lh3.googleusercontent.com/a/default-user=s128",
            "userId": "112366938353895998470"
          }
        }
      },
      "cell_type": "code",
      "source": [
        "# Load CIFAR10 Data\n",
        "(x_train, y_train), (x_test, y_test) = cifar10.load_data()\n",
        "img_height, img_width, channel = x_train.shape[1],x_train.shape[2],x_train.shape[3]\n",
        "\n",
        "# convert to one hot encoing \n",
        "y_train = keras.utils.to_categorical(y_train, num_classes)\n",
        "y_test = keras.utils.to_categorical(y_test, num_classes)\n",
        "\n",
        "\n",
        "\n",
        "x_train_resized=np.array([scipy.misc.imresize(img,(24,24)) for img in x_train])\n",
        "\n"
      ],
      "execution_count": 27,
      "outputs": [
        {
          "output_type": "stream",
          "text": [
            "/usr/local/lib/python3.6/dist-packages/scipy/misc/pilutil.py:482: FutureWarning: Conversion of the second argument of issubdtype from `int` to `np.signedinteger` is deprecated. In future, it will be treated as `np.int64 == np.dtype(int).type`.\n",
            "  if issubdtype(ts, int):\n",
            "/usr/local/lib/python3.6/dist-packages/scipy/misc/pilutil.py:485: FutureWarning: Conversion of the second argument of issubdtype from `float` to `np.floating` is deprecated. In future, it will be treated as `np.float64 == np.dtype(float).type`.\n",
            "  elif issubdtype(type(size), float):\n"
          ],
          "name": "stderr"
        }
      ]
    },
    {
      "metadata": {
        "id": "PJCQixxupXlQ",
        "colab_type": "code",
        "colab": {
          "autoexec": {
            "startup": false,
            "wait_interval": 0
          },
          "base_uri": "https://localhost:8080/",
          "height": 125
        },
        "outputId": "daccbcdd-3c05-4acb-cd3d-2724c5934ed1",
        "executionInfo": {
          "status": "ok",
          "timestamp": 1526016435216,
          "user_tz": -330,
          "elapsed": 2084,
          "user": {
            "displayName": "superamazingguy com",
            "photoUrl": "https://lh3.googleusercontent.com/a/default-user=s128",
            "userId": "112366938353895998470"
          }
        }
      },
      "cell_type": "code",
      "source": [
        "x_test_resized=np.array([scipy.misc.imresize(img,(24,24)) for img in x_test])\n",
        "x_train_resized[1].shape\n"
      ],
      "execution_count": 28,
      "outputs": [
        {
          "output_type": "stream",
          "text": [
            "/usr/local/lib/python3.6/dist-packages/scipy/misc/pilutil.py:482: FutureWarning: Conversion of the second argument of issubdtype from `int` to `np.signedinteger` is deprecated. In future, it will be treated as `np.int64 == np.dtype(int).type`.\n",
            "  if issubdtype(ts, int):\n",
            "/usr/local/lib/python3.6/dist-packages/scipy/misc/pilutil.py:485: FutureWarning: Conversion of the second argument of issubdtype from `float` to `np.floating` is deprecated. In future, it will be treated as `np.float64 == np.dtype(float).type`.\n",
            "  elif issubdtype(type(size), float):\n"
          ],
          "name": "stderr"
        },
        {
          "output_type": "execute_result",
          "data": {
            "text/plain": [
              "(24, 24, 3)"
            ]
          },
          "metadata": {
            "tags": []
          },
          "execution_count": 28
        }
      ]
    },
    {
      "metadata": {
        "id": "ee-sge5Kg7vr",
        "colab_type": "code",
        "colab": {
          "autoexec": {
            "startup": false,
            "wait_interval": 0
          }
        }
      },
      "cell_type": "code",
      "source": [
        "# Dense Block\n",
        "def add_denseblock(input, num_filter = 12, dropout_rate = 0.2):\n",
        "    global compression\n",
        "    temp = input\n",
        "    for _ in range(l):\n",
        "        BatchNorm = BatchNormalization()(temp)\n",
        "        relu = Activation('relu')(BatchNorm)\n",
        "        Conv2D_3_3 = Conv2D(int(num_filter*compression), (3,3), use_bias=False ,padding='same')(relu)\n",
        "        if dropout_rate>0:\n",
        "          Conv2D_3_3 = Dropout(dropout_rate)(Conv2D_3_3)\n",
        "        concat = Concatenate(axis=-1)([temp,Conv2D_3_3])\n",
        "        \n",
        "        temp = concat\n",
        "        \n",
        "    return temp"
      ],
      "execution_count": 0,
      "outputs": []
    },
    {
      "metadata": {
        "id": "OOP6IPsGhBwb",
        "colab_type": "code",
        "colab": {
          "autoexec": {
            "startup": false,
            "wait_interval": 0
          }
        }
      },
      "cell_type": "code",
      "source": [
        "def add_transition(input, num_filter = 12, dropout_rate = 0.2):\n",
        "    global compression\n",
        "    BatchNorm = BatchNormalization()(input)\n",
        "    relu = Activation('relu')(BatchNorm)\n",
        "    Conv2D_BottleNeck = Conv2D(int(num_filter*compression), (1,1), use_bias=False ,padding='same')(relu)\n",
        "    if dropout_rate>0:\n",
        "      Conv2D_BottleNeck = Dropout(dropout_rate)(Conv2D_BottleNeck)\n",
        "    avg = AveragePooling2D(pool_size=(2,2))(Conv2D_BottleNeck)\n",
        "    \n",
        "    return avg"
      ],
      "execution_count": 0,
      "outputs": []
    },
    {
      "metadata": {
        "id": "0RaKFpubhDIC",
        "colab_type": "code",
        "colab": {
          "autoexec": {
            "startup": false,
            "wait_interval": 0
          }
        }
      },
      "cell_type": "code",
      "source": [
        "def output_layer(input):\n",
        "    global compression\n",
        "    BatchNorm = BatchNormalization()(input)\n",
        "    relu = Activation('relu')(BatchNorm)\n",
        "    Conv2D_1_1=Conv2D(num_classes*10,(1,1))(relu)\n",
        "\n",
        "    AvgPooling = GlobalAveragePooling2D()(Conv2D_1_1)\n",
        "#     flat = Flatten()(AvgPooling)\n",
        "    output = Dense(num_classes, activation='softmax')(AvgPooling)\n",
        "    \n",
        "    return output"
      ],
      "execution_count": 0,
      "outputs": []
    },
    {
      "metadata": {
        "id": "anPCpQWhhGb7",
        "colab_type": "code",
        "colab": {
          "autoexec": {
            "startup": false,
            "wait_interval": 0
          }
        }
      },
      "cell_type": "code",
      "source": [
        "num_filter = 12\n",
        "dropout_rate = 0\n",
        "l = 20\n",
        "input = Input(shape=(None,None , channel,))\n",
        "First_Conv2D = Conv2D(num_filter, (3,3), use_bias=False ,padding='same')(input)\n",
        "\n",
        "First_Block = add_denseblock(First_Conv2D, num_filter, dropout_rate)\n",
        "First_Transition = add_transition(First_Block, num_filter, dropout_rate)\n",
        "\n",
        "Second_Block = add_denseblock(First_Transition, num_filter, dropout_rate)\n",
        "Second_Transition = add_transition(Second_Block, num_filter, dropout_rate)\n",
        "\n",
        "Third_Block = add_denseblock(Second_Transition, num_filter, dropout_rate)\n",
        "Third_Transition = add_transition(Third_Block, num_filter, dropout_rate)\n",
        "\n",
        "Last_Block = add_denseblock(Third_Transition,  num_filter, dropout_rate)\n",
        "output = output_layer(Last_Block)\n"
      ],
      "execution_count": 0,
      "outputs": []
    },
    {
      "metadata": {
        "id": "1kFh7pdxhNtT",
        "colab_type": "code",
        "colab": {
          "autoexec": {
            "startup": false,
            "wait_interval": 0
          },
          "base_uri": "https://localhost:8080/",
          "height": 13616
        },
        "outputId": "769e885d-bc97-442f-8f83-deecbe576bf9",
        "executionInfo": {
          "status": "ok",
          "timestamp": 1526017637458,
          "user_tz": -330,
          "elapsed": 1087,
          "user": {
            "displayName": "superamazingguy com",
            "photoUrl": "https://lh3.googleusercontent.com/a/default-user=s128",
            "userId": "112366938353895998470"
          }
        }
      },
      "cell_type": "code",
      "source": [
        "model = Model(inputs=[input], outputs=[output])\n",
        "model.summary()"
      ],
      "execution_count": 48,
      "outputs": [
        {
          "output_type": "stream",
          "text": [
            "__________________________________________________________________________________________________\n",
            "Layer (type)                    Output Shape         Param #     Connected to                     \n",
            "==================================================================================================\n",
            "input_10 (InputLayer)           (None, None, None, 3 0                                            \n",
            "__________________________________________________________________________________________________\n",
            "conv2d_753 (Conv2D)             (None, None, None, 1 324         input_10[0][0]                   \n",
            "__________________________________________________________________________________________________\n",
            "batch_normalization_749 (BatchN (None, None, None, 1 48          conv2d_753[0][0]                 \n",
            "__________________________________________________________________________________________________\n",
            "activation_748 (Activation)     (None, None, None, 1 0           batch_normalization_749[0][0]    \n",
            "__________________________________________________________________________________________________\n",
            "conv2d_754 (Conv2D)             (None, None, None, 6 648         activation_748[0][0]             \n",
            "__________________________________________________________________________________________________\n",
            "concatenate_713 (Concatenate)   (None, None, None, 1 0           conv2d_753[0][0]                 \n",
            "                                                                 conv2d_754[0][0]                 \n",
            "__________________________________________________________________________________________________\n",
            "batch_normalization_750 (BatchN (None, None, None, 1 72          concatenate_713[0][0]            \n",
            "__________________________________________________________________________________________________\n",
            "activation_749 (Activation)     (None, None, None, 1 0           batch_normalization_750[0][0]    \n",
            "__________________________________________________________________________________________________\n",
            "conv2d_755 (Conv2D)             (None, None, None, 6 972         activation_749[0][0]             \n",
            "__________________________________________________________________________________________________\n",
            "concatenate_714 (Concatenate)   (None, None, None, 2 0           concatenate_713[0][0]            \n",
            "                                                                 conv2d_755[0][0]                 \n",
            "__________________________________________________________________________________________________\n",
            "batch_normalization_751 (BatchN (None, None, None, 2 96          concatenate_714[0][0]            \n",
            "__________________________________________________________________________________________________\n",
            "activation_750 (Activation)     (None, None, None, 2 0           batch_normalization_751[0][0]    \n",
            "__________________________________________________________________________________________________\n",
            "conv2d_756 (Conv2D)             (None, None, None, 6 1296        activation_750[0][0]             \n",
            "__________________________________________________________________________________________________\n",
            "concatenate_715 (Concatenate)   (None, None, None, 3 0           concatenate_714[0][0]            \n",
            "                                                                 conv2d_756[0][0]                 \n",
            "__________________________________________________________________________________________________\n",
            "batch_normalization_752 (BatchN (None, None, None, 3 120         concatenate_715[0][0]            \n",
            "__________________________________________________________________________________________________\n",
            "activation_751 (Activation)     (None, None, None, 3 0           batch_normalization_752[0][0]    \n",
            "__________________________________________________________________________________________________\n",
            "conv2d_757 (Conv2D)             (None, None, None, 6 1620        activation_751[0][0]             \n",
            "__________________________________________________________________________________________________\n",
            "concatenate_716 (Concatenate)   (None, None, None, 3 0           concatenate_715[0][0]            \n",
            "                                                                 conv2d_757[0][0]                 \n",
            "__________________________________________________________________________________________________\n",
            "batch_normalization_753 (BatchN (None, None, None, 3 144         concatenate_716[0][0]            \n",
            "__________________________________________________________________________________________________\n",
            "activation_752 (Activation)     (None, None, None, 3 0           batch_normalization_753[0][0]    \n",
            "__________________________________________________________________________________________________\n",
            "conv2d_758 (Conv2D)             (None, None, None, 6 1944        activation_752[0][0]             \n",
            "__________________________________________________________________________________________________\n",
            "concatenate_717 (Concatenate)   (None, None, None, 4 0           concatenate_716[0][0]            \n",
            "                                                                 conv2d_758[0][0]                 \n",
            "__________________________________________________________________________________________________\n",
            "batch_normalization_754 (BatchN (None, None, None, 4 168         concatenate_717[0][0]            \n",
            "__________________________________________________________________________________________________\n",
            "activation_753 (Activation)     (None, None, None, 4 0           batch_normalization_754[0][0]    \n",
            "__________________________________________________________________________________________________\n",
            "conv2d_759 (Conv2D)             (None, None, None, 6 2268        activation_753[0][0]             \n",
            "__________________________________________________________________________________________________\n",
            "concatenate_718 (Concatenate)   (None, None, None, 4 0           concatenate_717[0][0]            \n",
            "                                                                 conv2d_759[0][0]                 \n",
            "__________________________________________________________________________________________________\n",
            "batch_normalization_755 (BatchN (None, None, None, 4 192         concatenate_718[0][0]            \n",
            "__________________________________________________________________________________________________\n",
            "activation_754 (Activation)     (None, None, None, 4 0           batch_normalization_755[0][0]    \n",
            "__________________________________________________________________________________________________\n",
            "conv2d_760 (Conv2D)             (None, None, None, 6 2592        activation_754[0][0]             \n",
            "__________________________________________________________________________________________________\n",
            "concatenate_719 (Concatenate)   (None, None, None, 5 0           concatenate_718[0][0]            \n",
            "                                                                 conv2d_760[0][0]                 \n",
            "__________________________________________________________________________________________________\n",
            "batch_normalization_756 (BatchN (None, None, None, 5 216         concatenate_719[0][0]            \n",
            "__________________________________________________________________________________________________\n",
            "activation_755 (Activation)     (None, None, None, 5 0           batch_normalization_756[0][0]    \n",
            "__________________________________________________________________________________________________\n",
            "conv2d_761 (Conv2D)             (None, None, None, 6 2916        activation_755[0][0]             \n",
            "__________________________________________________________________________________________________\n",
            "concatenate_720 (Concatenate)   (None, None, None, 6 0           concatenate_719[0][0]            \n",
            "                                                                 conv2d_761[0][0]                 \n",
            "__________________________________________________________________________________________________\n",
            "batch_normalization_757 (BatchN (None, None, None, 6 240         concatenate_720[0][0]            \n",
            "__________________________________________________________________________________________________\n",
            "activation_756 (Activation)     (None, None, None, 6 0           batch_normalization_757[0][0]    \n",
            "__________________________________________________________________________________________________\n",
            "conv2d_762 (Conv2D)             (None, None, None, 6 3240        activation_756[0][0]             \n",
            "__________________________________________________________________________________________________\n",
            "concatenate_721 (Concatenate)   (None, None, None, 6 0           concatenate_720[0][0]            \n",
            "                                                                 conv2d_762[0][0]                 \n",
            "__________________________________________________________________________________________________\n",
            "batch_normalization_758 (BatchN (None, None, None, 6 264         concatenate_721[0][0]            \n",
            "__________________________________________________________________________________________________\n",
            "activation_757 (Activation)     (None, None, None, 6 0           batch_normalization_758[0][0]    \n",
            "__________________________________________________________________________________________________\n",
            "conv2d_763 (Conv2D)             (None, None, None, 6 3564        activation_757[0][0]             \n",
            "__________________________________________________________________________________________________\n",
            "concatenate_722 (Concatenate)   (None, None, None, 7 0           concatenate_721[0][0]            \n",
            "                                                                 conv2d_763[0][0]                 \n",
            "__________________________________________________________________________________________________\n",
            "batch_normalization_759 (BatchN (None, None, None, 7 288         concatenate_722[0][0]            \n",
            "__________________________________________________________________________________________________\n",
            "activation_758 (Activation)     (None, None, None, 7 0           batch_normalization_759[0][0]    \n",
            "__________________________________________________________________________________________________\n",
            "conv2d_764 (Conv2D)             (None, None, None, 6 3888        activation_758[0][0]             \n",
            "__________________________________________________________________________________________________\n",
            "concatenate_723 (Concatenate)   (None, None, None, 7 0           concatenate_722[0][0]            \n",
            "                                                                 conv2d_764[0][0]                 \n",
            "__________________________________________________________________________________________________\n",
            "batch_normalization_760 (BatchN (None, None, None, 7 312         concatenate_723[0][0]            \n",
            "__________________________________________________________________________________________________\n",
            "activation_759 (Activation)     (None, None, None, 7 0           batch_normalization_760[0][0]    \n",
            "__________________________________________________________________________________________________\n",
            "conv2d_765 (Conv2D)             (None, None, None, 6 4212        activation_759[0][0]             \n",
            "__________________________________________________________________________________________________\n",
            "concatenate_724 (Concatenate)   (None, None, None, 8 0           concatenate_723[0][0]            \n",
            "                                                                 conv2d_765[0][0]                 \n",
            "__________________________________________________________________________________________________\n",
            "batch_normalization_761 (BatchN (None, None, None, 8 336         concatenate_724[0][0]            \n",
            "__________________________________________________________________________________________________\n",
            "activation_760 (Activation)     (None, None, None, 8 0           batch_normalization_761[0][0]    \n",
            "__________________________________________________________________________________________________\n",
            "conv2d_766 (Conv2D)             (None, None, None, 6 4536        activation_760[0][0]             \n",
            "__________________________________________________________________________________________________\n",
            "concatenate_725 (Concatenate)   (None, None, None, 9 0           concatenate_724[0][0]            \n",
            "                                                                 conv2d_766[0][0]                 \n",
            "__________________________________________________________________________________________________\n",
            "batch_normalization_762 (BatchN (None, None, None, 9 360         concatenate_725[0][0]            \n",
            "__________________________________________________________________________________________________\n",
            "activation_761 (Activation)     (None, None, None, 9 0           batch_normalization_762[0][0]    \n",
            "__________________________________________________________________________________________________\n",
            "conv2d_767 (Conv2D)             (None, None, None, 6 4860        activation_761[0][0]             \n",
            "__________________________________________________________________________________________________\n",
            "concatenate_726 (Concatenate)   (None, None, None, 9 0           concatenate_725[0][0]            \n",
            "                                                                 conv2d_767[0][0]                 \n",
            "__________________________________________________________________________________________________\n",
            "batch_normalization_763 (BatchN (None, None, None, 9 384         concatenate_726[0][0]            \n",
            "__________________________________________________________________________________________________\n",
            "activation_762 (Activation)     (None, None, None, 9 0           batch_normalization_763[0][0]    \n",
            "__________________________________________________________________________________________________\n",
            "conv2d_768 (Conv2D)             (None, None, None, 6 5184        activation_762[0][0]             \n",
            "__________________________________________________________________________________________________\n",
            "concatenate_727 (Concatenate)   (None, None, None, 1 0           concatenate_726[0][0]            \n",
            "                                                                 conv2d_768[0][0]                 \n",
            "__________________________________________________________________________________________________\n",
            "batch_normalization_764 (BatchN (None, None, None, 1 408         concatenate_727[0][0]            \n",
            "__________________________________________________________________________________________________\n",
            "activation_763 (Activation)     (None, None, None, 1 0           batch_normalization_764[0][0]    \n",
            "__________________________________________________________________________________________________\n",
            "conv2d_769 (Conv2D)             (None, None, None, 6 5508        activation_763[0][0]             \n",
            "__________________________________________________________________________________________________\n",
            "concatenate_728 (Concatenate)   (None, None, None, 1 0           concatenate_727[0][0]            \n",
            "                                                                 conv2d_769[0][0]                 \n",
            "__________________________________________________________________________________________________\n",
            "batch_normalization_765 (BatchN (None, None, None, 1 432         concatenate_728[0][0]            \n",
            "__________________________________________________________________________________________________\n",
            "activation_764 (Activation)     (None, None, None, 1 0           batch_normalization_765[0][0]    \n",
            "__________________________________________________________________________________________________\n",
            "conv2d_770 (Conv2D)             (None, None, None, 6 5832        activation_764[0][0]             \n",
            "__________________________________________________________________________________________________\n",
            "concatenate_729 (Concatenate)   (None, None, None, 1 0           concatenate_728[0][0]            \n",
            "                                                                 conv2d_770[0][0]                 \n",
            "__________________________________________________________________________________________________\n",
            "batch_normalization_766 (BatchN (None, None, None, 1 456         concatenate_729[0][0]            \n",
            "__________________________________________________________________________________________________\n",
            "activation_765 (Activation)     (None, None, None, 1 0           batch_normalization_766[0][0]    \n",
            "__________________________________________________________________________________________________\n",
            "conv2d_771 (Conv2D)             (None, None, None, 6 6156        activation_765[0][0]             \n",
            "__________________________________________________________________________________________________\n",
            "concatenate_730 (Concatenate)   (None, None, None, 1 0           concatenate_729[0][0]            \n",
            "                                                                 conv2d_771[0][0]                 \n",
            "__________________________________________________________________________________________________\n",
            "batch_normalization_767 (BatchN (None, None, None, 1 480         concatenate_730[0][0]            \n",
            "__________________________________________________________________________________________________\n",
            "activation_766 (Activation)     (None, None, None, 1 0           batch_normalization_767[0][0]    \n",
            "__________________________________________________________________________________________________\n",
            "conv2d_772 (Conv2D)             (None, None, None, 6 6480        activation_766[0][0]             \n",
            "__________________________________________________________________________________________________\n",
            "concatenate_731 (Concatenate)   (None, None, None, 1 0           concatenate_730[0][0]            \n",
            "                                                                 conv2d_772[0][0]                 \n",
            "__________________________________________________________________________________________________\n",
            "batch_normalization_768 (BatchN (None, None, None, 1 504         concatenate_731[0][0]            \n",
            "__________________________________________________________________________________________________\n",
            "activation_767 (Activation)     (None, None, None, 1 0           batch_normalization_768[0][0]    \n",
            "__________________________________________________________________________________________________\n",
            "conv2d_773 (Conv2D)             (None, None, None, 6 6804        activation_767[0][0]             \n",
            "__________________________________________________________________________________________________\n",
            "concatenate_732 (Concatenate)   (None, None, None, 1 0           concatenate_731[0][0]            \n",
            "                                                                 conv2d_773[0][0]                 \n",
            "__________________________________________________________________________________________________\n",
            "batch_normalization_769 (BatchN (None, None, None, 1 528         concatenate_732[0][0]            \n",
            "__________________________________________________________________________________________________\n",
            "activation_768 (Activation)     (None, None, None, 1 0           batch_normalization_769[0][0]    \n",
            "__________________________________________________________________________________________________\n",
            "conv2d_774 (Conv2D)             (None, None, None, 6 792         activation_768[0][0]             \n",
            "__________________________________________________________________________________________________\n",
            "average_pooling2d_32 (AveragePo (None, None, None, 6 0           conv2d_774[0][0]                 \n",
            "__________________________________________________________________________________________________\n",
            "batch_normalization_770 (BatchN (None, None, None, 6 24          average_pooling2d_32[0][0]       \n",
            "__________________________________________________________________________________________________\n",
            "activation_769 (Activation)     (None, None, None, 6 0           batch_normalization_770[0][0]    \n",
            "__________________________________________________________________________________________________\n",
            "conv2d_775 (Conv2D)             (None, None, None, 6 324         activation_769[0][0]             \n",
            "__________________________________________________________________________________________________\n",
            "concatenate_733 (Concatenate)   (None, None, None, 1 0           average_pooling2d_32[0][0]       \n",
            "                                                                 conv2d_775[0][0]                 \n",
            "__________________________________________________________________________________________________\n",
            "batch_normalization_771 (BatchN (None, None, None, 1 48          concatenate_733[0][0]            \n",
            "__________________________________________________________________________________________________\n",
            "activation_770 (Activation)     (None, None, None, 1 0           batch_normalization_771[0][0]    \n",
            "__________________________________________________________________________________________________\n",
            "conv2d_776 (Conv2D)             (None, None, None, 6 648         activation_770[0][0]             \n",
            "__________________________________________________________________________________________________\n",
            "concatenate_734 (Concatenate)   (None, None, None, 1 0           concatenate_733[0][0]            \n",
            "                                                                 conv2d_776[0][0]                 \n",
            "__________________________________________________________________________________________________\n",
            "batch_normalization_772 (BatchN (None, None, None, 1 72          concatenate_734[0][0]            \n",
            "__________________________________________________________________________________________________\n",
            "activation_771 (Activation)     (None, None, None, 1 0           batch_normalization_772[0][0]    \n",
            "__________________________________________________________________________________________________\n",
            "conv2d_777 (Conv2D)             (None, None, None, 6 972         activation_771[0][0]             \n",
            "__________________________________________________________________________________________________\n",
            "concatenate_735 (Concatenate)   (None, None, None, 2 0           concatenate_734[0][0]            \n",
            "                                                                 conv2d_777[0][0]                 \n",
            "__________________________________________________________________________________________________\n",
            "batch_normalization_773 (BatchN (None, None, None, 2 96          concatenate_735[0][0]            \n",
            "__________________________________________________________________________________________________\n",
            "activation_772 (Activation)     (None, None, None, 2 0           batch_normalization_773[0][0]    \n",
            "__________________________________________________________________________________________________\n",
            "conv2d_778 (Conv2D)             (None, None, None, 6 1296        activation_772[0][0]             \n",
            "__________________________________________________________________________________________________\n",
            "concatenate_736 (Concatenate)   (None, None, None, 3 0           concatenate_735[0][0]            \n",
            "                                                                 conv2d_778[0][0]                 \n",
            "__________________________________________________________________________________________________\n",
            "batch_normalization_774 (BatchN (None, None, None, 3 120         concatenate_736[0][0]            \n",
            "__________________________________________________________________________________________________\n",
            "activation_773 (Activation)     (None, None, None, 3 0           batch_normalization_774[0][0]    \n",
            "__________________________________________________________________________________________________\n",
            "conv2d_779 (Conv2D)             (None, None, None, 6 1620        activation_773[0][0]             \n",
            "__________________________________________________________________________________________________\n",
            "concatenate_737 (Concatenate)   (None, None, None, 3 0           concatenate_736[0][0]            \n",
            "                                                                 conv2d_779[0][0]                 \n",
            "__________________________________________________________________________________________________\n",
            "batch_normalization_775 (BatchN (None, None, None, 3 144         concatenate_737[0][0]            \n",
            "__________________________________________________________________________________________________\n",
            "activation_774 (Activation)     (None, None, None, 3 0           batch_normalization_775[0][0]    \n",
            "__________________________________________________________________________________________________\n",
            "conv2d_780 (Conv2D)             (None, None, None, 6 1944        activation_774[0][0]             \n",
            "__________________________________________________________________________________________________\n",
            "concatenate_738 (Concatenate)   (None, None, None, 4 0           concatenate_737[0][0]            \n",
            "                                                                 conv2d_780[0][0]                 \n",
            "__________________________________________________________________________________________________\n",
            "batch_normalization_776 (BatchN (None, None, None, 4 168         concatenate_738[0][0]            \n",
            "__________________________________________________________________________________________________\n",
            "activation_775 (Activation)     (None, None, None, 4 0           batch_normalization_776[0][0]    \n",
            "__________________________________________________________________________________________________\n",
            "conv2d_781 (Conv2D)             (None, None, None, 6 2268        activation_775[0][0]             \n",
            "__________________________________________________________________________________________________\n",
            "concatenate_739 (Concatenate)   (None, None, None, 4 0           concatenate_738[0][0]            \n",
            "                                                                 conv2d_781[0][0]                 \n",
            "__________________________________________________________________________________________________\n",
            "batch_normalization_777 (BatchN (None, None, None, 4 192         concatenate_739[0][0]            \n",
            "__________________________________________________________________________________________________\n",
            "activation_776 (Activation)     (None, None, None, 4 0           batch_normalization_777[0][0]    \n",
            "__________________________________________________________________________________________________\n",
            "conv2d_782 (Conv2D)             (None, None, None, 6 2592        activation_776[0][0]             \n",
            "__________________________________________________________________________________________________\n",
            "concatenate_740 (Concatenate)   (None, None, None, 5 0           concatenate_739[0][0]            \n",
            "                                                                 conv2d_782[0][0]                 \n",
            "__________________________________________________________________________________________________\n",
            "batch_normalization_778 (BatchN (None, None, None, 5 216         concatenate_740[0][0]            \n",
            "__________________________________________________________________________________________________\n",
            "activation_777 (Activation)     (None, None, None, 5 0           batch_normalization_778[0][0]    \n",
            "__________________________________________________________________________________________________\n",
            "conv2d_783 (Conv2D)             (None, None, None, 6 2916        activation_777[0][0]             \n",
            "__________________________________________________________________________________________________\n",
            "concatenate_741 (Concatenate)   (None, None, None, 6 0           concatenate_740[0][0]            \n",
            "                                                                 conv2d_783[0][0]                 \n",
            "__________________________________________________________________________________________________\n",
            "batch_normalization_779 (BatchN (None, None, None, 6 240         concatenate_741[0][0]            \n",
            "__________________________________________________________________________________________________\n",
            "activation_778 (Activation)     (None, None, None, 6 0           batch_normalization_779[0][0]    \n",
            "__________________________________________________________________________________________________\n",
            "conv2d_784 (Conv2D)             (None, None, None, 6 3240        activation_778[0][0]             \n",
            "__________________________________________________________________________________________________\n",
            "concatenate_742 (Concatenate)   (None, None, None, 6 0           concatenate_741[0][0]            \n",
            "                                                                 conv2d_784[0][0]                 \n",
            "__________________________________________________________________________________________________\n",
            "batch_normalization_780 (BatchN (None, None, None, 6 264         concatenate_742[0][0]            \n",
            "__________________________________________________________________________________________________\n",
            "activation_779 (Activation)     (None, None, None, 6 0           batch_normalization_780[0][0]    \n",
            "__________________________________________________________________________________________________\n",
            "conv2d_785 (Conv2D)             (None, None, None, 6 3564        activation_779[0][0]             \n",
            "__________________________________________________________________________________________________\n",
            "concatenate_743 (Concatenate)   (None, None, None, 7 0           concatenate_742[0][0]            \n",
            "                                                                 conv2d_785[0][0]                 \n",
            "__________________________________________________________________________________________________\n",
            "batch_normalization_781 (BatchN (None, None, None, 7 288         concatenate_743[0][0]            \n",
            "__________________________________________________________________________________________________\n",
            "activation_780 (Activation)     (None, None, None, 7 0           batch_normalization_781[0][0]    \n",
            "__________________________________________________________________________________________________\n",
            "conv2d_786 (Conv2D)             (None, None, None, 6 3888        activation_780[0][0]             \n",
            "__________________________________________________________________________________________________\n",
            "concatenate_744 (Concatenate)   (None, None, None, 7 0           concatenate_743[0][0]            \n",
            "                                                                 conv2d_786[0][0]                 \n",
            "__________________________________________________________________________________________________\n",
            "batch_normalization_782 (BatchN (None, None, None, 7 312         concatenate_744[0][0]            \n",
            "__________________________________________________________________________________________________\n",
            "activation_781 (Activation)     (None, None, None, 7 0           batch_normalization_782[0][0]    \n",
            "__________________________________________________________________________________________________\n",
            "conv2d_787 (Conv2D)             (None, None, None, 6 4212        activation_781[0][0]             \n",
            "__________________________________________________________________________________________________\n",
            "concatenate_745 (Concatenate)   (None, None, None, 8 0           concatenate_744[0][0]            \n",
            "                                                                 conv2d_787[0][0]                 \n",
            "__________________________________________________________________________________________________\n",
            "batch_normalization_783 (BatchN (None, None, None, 8 336         concatenate_745[0][0]            \n",
            "__________________________________________________________________________________________________\n",
            "activation_782 (Activation)     (None, None, None, 8 0           batch_normalization_783[0][0]    \n",
            "__________________________________________________________________________________________________\n",
            "conv2d_788 (Conv2D)             (None, None, None, 6 4536        activation_782[0][0]             \n",
            "__________________________________________________________________________________________________\n",
            "concatenate_746 (Concatenate)   (None, None, None, 9 0           concatenate_745[0][0]            \n",
            "                                                                 conv2d_788[0][0]                 \n",
            "__________________________________________________________________________________________________\n",
            "batch_normalization_784 (BatchN (None, None, None, 9 360         concatenate_746[0][0]            \n",
            "__________________________________________________________________________________________________\n",
            "activation_783 (Activation)     (None, None, None, 9 0           batch_normalization_784[0][0]    \n",
            "__________________________________________________________________________________________________\n",
            "conv2d_789 (Conv2D)             (None, None, None, 6 4860        activation_783[0][0]             \n",
            "__________________________________________________________________________________________________\n",
            "concatenate_747 (Concatenate)   (None, None, None, 9 0           concatenate_746[0][0]            \n",
            "                                                                 conv2d_789[0][0]                 \n",
            "__________________________________________________________________________________________________\n",
            "batch_normalization_785 (BatchN (None, None, None, 9 384         concatenate_747[0][0]            \n",
            "__________________________________________________________________________________________________\n",
            "activation_784 (Activation)     (None, None, None, 9 0           batch_normalization_785[0][0]    \n",
            "__________________________________________________________________________________________________\n",
            "conv2d_790 (Conv2D)             (None, None, None, 6 5184        activation_784[0][0]             \n",
            "__________________________________________________________________________________________________\n",
            "concatenate_748 (Concatenate)   (None, None, None, 1 0           concatenate_747[0][0]            \n",
            "                                                                 conv2d_790[0][0]                 \n",
            "__________________________________________________________________________________________________\n",
            "batch_normalization_786 (BatchN (None, None, None, 1 408         concatenate_748[0][0]            \n",
            "__________________________________________________________________________________________________\n",
            "activation_785 (Activation)     (None, None, None, 1 0           batch_normalization_786[0][0]    \n",
            "__________________________________________________________________________________________________\n",
            "conv2d_791 (Conv2D)             (None, None, None, 6 5508        activation_785[0][0]             \n",
            "__________________________________________________________________________________________________\n",
            "concatenate_749 (Concatenate)   (None, None, None, 1 0           concatenate_748[0][0]            \n",
            "                                                                 conv2d_791[0][0]                 \n",
            "__________________________________________________________________________________________________\n",
            "batch_normalization_787 (BatchN (None, None, None, 1 432         concatenate_749[0][0]            \n",
            "__________________________________________________________________________________________________\n",
            "activation_786 (Activation)     (None, None, None, 1 0           batch_normalization_787[0][0]    \n",
            "__________________________________________________________________________________________________\n",
            "conv2d_792 (Conv2D)             (None, None, None, 6 5832        activation_786[0][0]             \n",
            "__________________________________________________________________________________________________\n",
            "concatenate_750 (Concatenate)   (None, None, None, 1 0           concatenate_749[0][0]            \n",
            "                                                                 conv2d_792[0][0]                 \n",
            "__________________________________________________________________________________________________\n",
            "batch_normalization_788 (BatchN (None, None, None, 1 456         concatenate_750[0][0]            \n",
            "__________________________________________________________________________________________________\n",
            "activation_787 (Activation)     (None, None, None, 1 0           batch_normalization_788[0][0]    \n",
            "__________________________________________________________________________________________________\n",
            "conv2d_793 (Conv2D)             (None, None, None, 6 6156        activation_787[0][0]             \n",
            "__________________________________________________________________________________________________\n",
            "concatenate_751 (Concatenate)   (None, None, None, 1 0           concatenate_750[0][0]            \n",
            "                                                                 conv2d_793[0][0]                 \n",
            "__________________________________________________________________________________________________\n",
            "batch_normalization_789 (BatchN (None, None, None, 1 480         concatenate_751[0][0]            \n",
            "__________________________________________________________________________________________________\n",
            "activation_788 (Activation)     (None, None, None, 1 0           batch_normalization_789[0][0]    \n",
            "__________________________________________________________________________________________________\n",
            "conv2d_794 (Conv2D)             (None, None, None, 6 6480        activation_788[0][0]             \n",
            "__________________________________________________________________________________________________\n",
            "concatenate_752 (Concatenate)   (None, None, None, 1 0           concatenate_751[0][0]            \n",
            "                                                                 conv2d_794[0][0]                 \n",
            "__________________________________________________________________________________________________\n",
            "batch_normalization_790 (BatchN (None, None, None, 1 504         concatenate_752[0][0]            \n",
            "__________________________________________________________________________________________________\n",
            "activation_789 (Activation)     (None, None, None, 1 0           batch_normalization_790[0][0]    \n",
            "__________________________________________________________________________________________________\n",
            "conv2d_795 (Conv2D)             (None, None, None, 6 756         activation_789[0][0]             \n",
            "__________________________________________________________________________________________________\n",
            "average_pooling2d_33 (AveragePo (None, None, None, 6 0           conv2d_795[0][0]                 \n",
            "__________________________________________________________________________________________________\n",
            "batch_normalization_791 (BatchN (None, None, None, 6 24          average_pooling2d_33[0][0]       \n",
            "__________________________________________________________________________________________________\n",
            "activation_790 (Activation)     (None, None, None, 6 0           batch_normalization_791[0][0]    \n",
            "__________________________________________________________________________________________________\n",
            "conv2d_796 (Conv2D)             (None, None, None, 6 324         activation_790[0][0]             \n",
            "__________________________________________________________________________________________________\n",
            "concatenate_753 (Concatenate)   (None, None, None, 1 0           average_pooling2d_33[0][0]       \n",
            "                                                                 conv2d_796[0][0]                 \n",
            "__________________________________________________________________________________________________\n",
            "batch_normalization_792 (BatchN (None, None, None, 1 48          concatenate_753[0][0]            \n",
            "__________________________________________________________________________________________________\n",
            "activation_791 (Activation)     (None, None, None, 1 0           batch_normalization_792[0][0]    \n",
            "__________________________________________________________________________________________________\n",
            "conv2d_797 (Conv2D)             (None, None, None, 6 648         activation_791[0][0]             \n",
            "__________________________________________________________________________________________________\n",
            "concatenate_754 (Concatenate)   (None, None, None, 1 0           concatenate_753[0][0]            \n",
            "                                                                 conv2d_797[0][0]                 \n",
            "__________________________________________________________________________________________________\n",
            "batch_normalization_793 (BatchN (None, None, None, 1 72          concatenate_754[0][0]            \n",
            "__________________________________________________________________________________________________\n",
            "activation_792 (Activation)     (None, None, None, 1 0           batch_normalization_793[0][0]    \n",
            "__________________________________________________________________________________________________\n",
            "conv2d_798 (Conv2D)             (None, None, None, 6 972         activation_792[0][0]             \n",
            "__________________________________________________________________________________________________\n",
            "concatenate_755 (Concatenate)   (None, None, None, 2 0           concatenate_754[0][0]            \n",
            "                                                                 conv2d_798[0][0]                 \n",
            "__________________________________________________________________________________________________\n",
            "batch_normalization_794 (BatchN (None, None, None, 2 96          concatenate_755[0][0]            \n",
            "__________________________________________________________________________________________________\n",
            "activation_793 (Activation)     (None, None, None, 2 0           batch_normalization_794[0][0]    \n",
            "__________________________________________________________________________________________________\n",
            "conv2d_799 (Conv2D)             (None, None, None, 6 1296        activation_793[0][0]             \n",
            "__________________________________________________________________________________________________\n",
            "concatenate_756 (Concatenate)   (None, None, None, 3 0           concatenate_755[0][0]            \n",
            "                                                                 conv2d_799[0][0]                 \n",
            "__________________________________________________________________________________________________\n",
            "batch_normalization_795 (BatchN (None, None, None, 3 120         concatenate_756[0][0]            \n",
            "__________________________________________________________________________________________________\n",
            "activation_794 (Activation)     (None, None, None, 3 0           batch_normalization_795[0][0]    \n",
            "__________________________________________________________________________________________________\n",
            "conv2d_800 (Conv2D)             (None, None, None, 6 1620        activation_794[0][0]             \n",
            "__________________________________________________________________________________________________\n",
            "concatenate_757 (Concatenate)   (None, None, None, 3 0           concatenate_756[0][0]            \n",
            "                                                                 conv2d_800[0][0]                 \n",
            "__________________________________________________________________________________________________\n",
            "batch_normalization_796 (BatchN (None, None, None, 3 144         concatenate_757[0][0]            \n",
            "__________________________________________________________________________________________________\n",
            "activation_795 (Activation)     (None, None, None, 3 0           batch_normalization_796[0][0]    \n",
            "__________________________________________________________________________________________________\n",
            "conv2d_801 (Conv2D)             (None, None, None, 6 1944        activation_795[0][0]             \n",
            "__________________________________________________________________________________________________\n",
            "concatenate_758 (Concatenate)   (None, None, None, 4 0           concatenate_757[0][0]            \n",
            "                                                                 conv2d_801[0][0]                 \n",
            "__________________________________________________________________________________________________\n",
            "batch_normalization_797 (BatchN (None, None, None, 4 168         concatenate_758[0][0]            \n",
            "__________________________________________________________________________________________________\n",
            "activation_796 (Activation)     (None, None, None, 4 0           batch_normalization_797[0][0]    \n",
            "__________________________________________________________________________________________________\n",
            "conv2d_802 (Conv2D)             (None, None, None, 6 2268        activation_796[0][0]             \n",
            "__________________________________________________________________________________________________\n",
            "concatenate_759 (Concatenate)   (None, None, None, 4 0           concatenate_758[0][0]            \n",
            "                                                                 conv2d_802[0][0]                 \n",
            "__________________________________________________________________________________________________\n",
            "batch_normalization_798 (BatchN (None, None, None, 4 192         concatenate_759[0][0]            \n",
            "__________________________________________________________________________________________________\n",
            "activation_797 (Activation)     (None, None, None, 4 0           batch_normalization_798[0][0]    \n",
            "__________________________________________________________________________________________________\n",
            "conv2d_803 (Conv2D)             (None, None, None, 6 2592        activation_797[0][0]             \n",
            "__________________________________________________________________________________________________\n",
            "concatenate_760 (Concatenate)   (None, None, None, 5 0           concatenate_759[0][0]            \n",
            "                                                                 conv2d_803[0][0]                 \n",
            "__________________________________________________________________________________________________\n",
            "batch_normalization_799 (BatchN (None, None, None, 5 216         concatenate_760[0][0]            \n",
            "__________________________________________________________________________________________________\n",
            "activation_798 (Activation)     (None, None, None, 5 0           batch_normalization_799[0][0]    \n",
            "__________________________________________________________________________________________________\n",
            "conv2d_804 (Conv2D)             (None, None, None, 6 2916        activation_798[0][0]             \n",
            "__________________________________________________________________________________________________\n",
            "concatenate_761 (Concatenate)   (None, None, None, 6 0           concatenate_760[0][0]            \n",
            "                                                                 conv2d_804[0][0]                 \n",
            "__________________________________________________________________________________________________\n",
            "batch_normalization_800 (BatchN (None, None, None, 6 240         concatenate_761[0][0]            \n",
            "__________________________________________________________________________________________________\n",
            "activation_799 (Activation)     (None, None, None, 6 0           batch_normalization_800[0][0]    \n",
            "__________________________________________________________________________________________________\n",
            "conv2d_805 (Conv2D)             (None, None, None, 6 3240        activation_799[0][0]             \n",
            "__________________________________________________________________________________________________\n",
            "concatenate_762 (Concatenate)   (None, None, None, 6 0           concatenate_761[0][0]            \n",
            "                                                                 conv2d_805[0][0]                 \n",
            "__________________________________________________________________________________________________\n",
            "batch_normalization_801 (BatchN (None, None, None, 6 264         concatenate_762[0][0]            \n",
            "__________________________________________________________________________________________________\n",
            "activation_800 (Activation)     (None, None, None, 6 0           batch_normalization_801[0][0]    \n",
            "__________________________________________________________________________________________________\n",
            "conv2d_806 (Conv2D)             (None, None, None, 6 3564        activation_800[0][0]             \n",
            "__________________________________________________________________________________________________\n",
            "concatenate_763 (Concatenate)   (None, None, None, 7 0           concatenate_762[0][0]            \n",
            "                                                                 conv2d_806[0][0]                 \n",
            "__________________________________________________________________________________________________\n",
            "batch_normalization_802 (BatchN (None, None, None, 7 288         concatenate_763[0][0]            \n",
            "__________________________________________________________________________________________________\n",
            "activation_801 (Activation)     (None, None, None, 7 0           batch_normalization_802[0][0]    \n",
            "__________________________________________________________________________________________________\n",
            "conv2d_807 (Conv2D)             (None, None, None, 6 3888        activation_801[0][0]             \n",
            "__________________________________________________________________________________________________\n",
            "concatenate_764 (Concatenate)   (None, None, None, 7 0           concatenate_763[0][0]            \n",
            "                                                                 conv2d_807[0][0]                 \n",
            "__________________________________________________________________________________________________\n",
            "batch_normalization_803 (BatchN (None, None, None, 7 312         concatenate_764[0][0]            \n",
            "__________________________________________________________________________________________________\n",
            "activation_802 (Activation)     (None, None, None, 7 0           batch_normalization_803[0][0]    \n",
            "__________________________________________________________________________________________________\n",
            "conv2d_808 (Conv2D)             (None, None, None, 6 4212        activation_802[0][0]             \n",
            "__________________________________________________________________________________________________\n",
            "concatenate_765 (Concatenate)   (None, None, None, 8 0           concatenate_764[0][0]            \n",
            "                                                                 conv2d_808[0][0]                 \n",
            "__________________________________________________________________________________________________\n",
            "batch_normalization_804 (BatchN (None, None, None, 8 336         concatenate_765[0][0]            \n",
            "__________________________________________________________________________________________________\n",
            "activation_803 (Activation)     (None, None, None, 8 0           batch_normalization_804[0][0]    \n",
            "__________________________________________________________________________________________________\n",
            "conv2d_809 (Conv2D)             (None, None, None, 6 4536        activation_803[0][0]             \n",
            "__________________________________________________________________________________________________\n",
            "concatenate_766 (Concatenate)   (None, None, None, 9 0           concatenate_765[0][0]            \n",
            "                                                                 conv2d_809[0][0]                 \n",
            "__________________________________________________________________________________________________\n",
            "batch_normalization_805 (BatchN (None, None, None, 9 360         concatenate_766[0][0]            \n",
            "__________________________________________________________________________________________________\n",
            "activation_804 (Activation)     (None, None, None, 9 0           batch_normalization_805[0][0]    \n",
            "__________________________________________________________________________________________________\n",
            "conv2d_810 (Conv2D)             (None, None, None, 6 4860        activation_804[0][0]             \n",
            "__________________________________________________________________________________________________\n",
            "concatenate_767 (Concatenate)   (None, None, None, 9 0           concatenate_766[0][0]            \n",
            "                                                                 conv2d_810[0][0]                 \n",
            "__________________________________________________________________________________________________\n",
            "batch_normalization_806 (BatchN (None, None, None, 9 384         concatenate_767[0][0]            \n",
            "__________________________________________________________________________________________________\n",
            "activation_805 (Activation)     (None, None, None, 9 0           batch_normalization_806[0][0]    \n",
            "__________________________________________________________________________________________________\n",
            "conv2d_811 (Conv2D)             (None, None, None, 6 5184        activation_805[0][0]             \n",
            "__________________________________________________________________________________________________\n",
            "concatenate_768 (Concatenate)   (None, None, None, 1 0           concatenate_767[0][0]            \n",
            "                                                                 conv2d_811[0][0]                 \n",
            "__________________________________________________________________________________________________\n",
            "batch_normalization_807 (BatchN (None, None, None, 1 408         concatenate_768[0][0]            \n",
            "__________________________________________________________________________________________________\n",
            "activation_806 (Activation)     (None, None, None, 1 0           batch_normalization_807[0][0]    \n",
            "__________________________________________________________________________________________________\n",
            "conv2d_812 (Conv2D)             (None, None, None, 6 5508        activation_806[0][0]             \n",
            "__________________________________________________________________________________________________\n",
            "concatenate_769 (Concatenate)   (None, None, None, 1 0           concatenate_768[0][0]            \n",
            "                                                                 conv2d_812[0][0]                 \n",
            "__________________________________________________________________________________________________\n",
            "batch_normalization_808 (BatchN (None, None, None, 1 432         concatenate_769[0][0]            \n",
            "__________________________________________________________________________________________________\n",
            "activation_807 (Activation)     (None, None, None, 1 0           batch_normalization_808[0][0]    \n",
            "__________________________________________________________________________________________________\n",
            "conv2d_813 (Conv2D)             (None, None, None, 6 5832        activation_807[0][0]             \n",
            "__________________________________________________________________________________________________\n",
            "concatenate_770 (Concatenate)   (None, None, None, 1 0           concatenate_769[0][0]            \n",
            "                                                                 conv2d_813[0][0]                 \n",
            "__________________________________________________________________________________________________\n",
            "batch_normalization_809 (BatchN (None, None, None, 1 456         concatenate_770[0][0]            \n",
            "__________________________________________________________________________________________________\n",
            "activation_808 (Activation)     (None, None, None, 1 0           batch_normalization_809[0][0]    \n",
            "__________________________________________________________________________________________________\n",
            "conv2d_814 (Conv2D)             (None, None, None, 6 6156        activation_808[0][0]             \n",
            "__________________________________________________________________________________________________\n",
            "concatenate_771 (Concatenate)   (None, None, None, 1 0           concatenate_770[0][0]            \n",
            "                                                                 conv2d_814[0][0]                 \n",
            "__________________________________________________________________________________________________\n",
            "batch_normalization_810 (BatchN (None, None, None, 1 480         concatenate_771[0][0]            \n",
            "__________________________________________________________________________________________________\n",
            "activation_809 (Activation)     (None, None, None, 1 0           batch_normalization_810[0][0]    \n",
            "__________________________________________________________________________________________________\n",
            "conv2d_815 (Conv2D)             (None, None, None, 6 6480        activation_809[0][0]             \n",
            "__________________________________________________________________________________________________\n",
            "concatenate_772 (Concatenate)   (None, None, None, 1 0           concatenate_771[0][0]            \n",
            "                                                                 conv2d_815[0][0]                 \n",
            "__________________________________________________________________________________________________\n",
            "batch_normalization_811 (BatchN (None, None, None, 1 504         concatenate_772[0][0]            \n",
            "__________________________________________________________________________________________________\n",
            "activation_810 (Activation)     (None, None, None, 1 0           batch_normalization_811[0][0]    \n",
            "__________________________________________________________________________________________________\n",
            "conv2d_816 (Conv2D)             (None, None, None, 6 756         activation_810[0][0]             \n",
            "__________________________________________________________________________________________________\n",
            "average_pooling2d_34 (AveragePo (None, None, None, 6 0           conv2d_816[0][0]                 \n",
            "__________________________________________________________________________________________________\n",
            "batch_normalization_812 (BatchN (None, None, None, 6 24          average_pooling2d_34[0][0]       \n",
            "__________________________________________________________________________________________________\n",
            "activation_811 (Activation)     (None, None, None, 6 0           batch_normalization_812[0][0]    \n",
            "__________________________________________________________________________________________________\n",
            "conv2d_817 (Conv2D)             (None, None, None, 6 324         activation_811[0][0]             \n",
            "__________________________________________________________________________________________________\n",
            "concatenate_773 (Concatenate)   (None, None, None, 1 0           average_pooling2d_34[0][0]       \n",
            "                                                                 conv2d_817[0][0]                 \n",
            "__________________________________________________________________________________________________\n",
            "batch_normalization_813 (BatchN (None, None, None, 1 48          concatenate_773[0][0]            \n",
            "__________________________________________________________________________________________________\n",
            "activation_812 (Activation)     (None, None, None, 1 0           batch_normalization_813[0][0]    \n",
            "__________________________________________________________________________________________________\n",
            "conv2d_818 (Conv2D)             (None, None, None, 6 648         activation_812[0][0]             \n",
            "__________________________________________________________________________________________________\n",
            "concatenate_774 (Concatenate)   (None, None, None, 1 0           concatenate_773[0][0]            \n",
            "                                                                 conv2d_818[0][0]                 \n",
            "__________________________________________________________________________________________________\n",
            "batch_normalization_814 (BatchN (None, None, None, 1 72          concatenate_774[0][0]            \n",
            "__________________________________________________________________________________________________\n",
            "activation_813 (Activation)     (None, None, None, 1 0           batch_normalization_814[0][0]    \n",
            "__________________________________________________________________________________________________\n",
            "conv2d_819 (Conv2D)             (None, None, None, 6 972         activation_813[0][0]             \n",
            "__________________________________________________________________________________________________\n",
            "concatenate_775 (Concatenate)   (None, None, None, 2 0           concatenate_774[0][0]            \n",
            "                                                                 conv2d_819[0][0]                 \n",
            "__________________________________________________________________________________________________\n"
          ],
          "name": "stdout"
        },
        {
          "output_type": "stream",
          "text": [
            "batch_normalization_815 (BatchN (None, None, None, 2 96          concatenate_775[0][0]            \n",
            "__________________________________________________________________________________________________\n",
            "activation_814 (Activation)     (None, None, None, 2 0           batch_normalization_815[0][0]    \n",
            "__________________________________________________________________________________________________\n",
            "conv2d_820 (Conv2D)             (None, None, None, 6 1296        activation_814[0][0]             \n",
            "__________________________________________________________________________________________________\n",
            "concatenate_776 (Concatenate)   (None, None, None, 3 0           concatenate_775[0][0]            \n",
            "                                                                 conv2d_820[0][0]                 \n",
            "__________________________________________________________________________________________________\n",
            "batch_normalization_816 (BatchN (None, None, None, 3 120         concatenate_776[0][0]            \n",
            "__________________________________________________________________________________________________\n",
            "activation_815 (Activation)     (None, None, None, 3 0           batch_normalization_816[0][0]    \n",
            "__________________________________________________________________________________________________\n",
            "conv2d_821 (Conv2D)             (None, None, None, 6 1620        activation_815[0][0]             \n",
            "__________________________________________________________________________________________________\n",
            "concatenate_777 (Concatenate)   (None, None, None, 3 0           concatenate_776[0][0]            \n",
            "                                                                 conv2d_821[0][0]                 \n",
            "__________________________________________________________________________________________________\n",
            "batch_normalization_817 (BatchN (None, None, None, 3 144         concatenate_777[0][0]            \n",
            "__________________________________________________________________________________________________\n",
            "activation_816 (Activation)     (None, None, None, 3 0           batch_normalization_817[0][0]    \n",
            "__________________________________________________________________________________________________\n",
            "conv2d_822 (Conv2D)             (None, None, None, 6 1944        activation_816[0][0]             \n",
            "__________________________________________________________________________________________________\n",
            "concatenate_778 (Concatenate)   (None, None, None, 4 0           concatenate_777[0][0]            \n",
            "                                                                 conv2d_822[0][0]                 \n",
            "__________________________________________________________________________________________________\n",
            "batch_normalization_818 (BatchN (None, None, None, 4 168         concatenate_778[0][0]            \n",
            "__________________________________________________________________________________________________\n",
            "activation_817 (Activation)     (None, None, None, 4 0           batch_normalization_818[0][0]    \n",
            "__________________________________________________________________________________________________\n",
            "conv2d_823 (Conv2D)             (None, None, None, 6 2268        activation_817[0][0]             \n",
            "__________________________________________________________________________________________________\n",
            "concatenate_779 (Concatenate)   (None, None, None, 4 0           concatenate_778[0][0]            \n",
            "                                                                 conv2d_823[0][0]                 \n",
            "__________________________________________________________________________________________________\n",
            "batch_normalization_819 (BatchN (None, None, None, 4 192         concatenate_779[0][0]            \n",
            "__________________________________________________________________________________________________\n",
            "activation_818 (Activation)     (None, None, None, 4 0           batch_normalization_819[0][0]    \n",
            "__________________________________________________________________________________________________\n",
            "conv2d_824 (Conv2D)             (None, None, None, 6 2592        activation_818[0][0]             \n",
            "__________________________________________________________________________________________________\n",
            "concatenate_780 (Concatenate)   (None, None, None, 5 0           concatenate_779[0][0]            \n",
            "                                                                 conv2d_824[0][0]                 \n",
            "__________________________________________________________________________________________________\n",
            "batch_normalization_820 (BatchN (None, None, None, 5 216         concatenate_780[0][0]            \n",
            "__________________________________________________________________________________________________\n",
            "activation_819 (Activation)     (None, None, None, 5 0           batch_normalization_820[0][0]    \n",
            "__________________________________________________________________________________________________\n",
            "conv2d_825 (Conv2D)             (None, None, None, 6 2916        activation_819[0][0]             \n",
            "__________________________________________________________________________________________________\n",
            "concatenate_781 (Concatenate)   (None, None, None, 6 0           concatenate_780[0][0]            \n",
            "                                                                 conv2d_825[0][0]                 \n",
            "__________________________________________________________________________________________________\n",
            "batch_normalization_821 (BatchN (None, None, None, 6 240         concatenate_781[0][0]            \n",
            "__________________________________________________________________________________________________\n",
            "activation_820 (Activation)     (None, None, None, 6 0           batch_normalization_821[0][0]    \n",
            "__________________________________________________________________________________________________\n",
            "conv2d_826 (Conv2D)             (None, None, None, 6 3240        activation_820[0][0]             \n",
            "__________________________________________________________________________________________________\n",
            "concatenate_782 (Concatenate)   (None, None, None, 6 0           concatenate_781[0][0]            \n",
            "                                                                 conv2d_826[0][0]                 \n",
            "__________________________________________________________________________________________________\n",
            "batch_normalization_822 (BatchN (None, None, None, 6 264         concatenate_782[0][0]            \n",
            "__________________________________________________________________________________________________\n",
            "activation_821 (Activation)     (None, None, None, 6 0           batch_normalization_822[0][0]    \n",
            "__________________________________________________________________________________________________\n",
            "conv2d_827 (Conv2D)             (None, None, None, 6 3564        activation_821[0][0]             \n",
            "__________________________________________________________________________________________________\n",
            "concatenate_783 (Concatenate)   (None, None, None, 7 0           concatenate_782[0][0]            \n",
            "                                                                 conv2d_827[0][0]                 \n",
            "__________________________________________________________________________________________________\n",
            "batch_normalization_823 (BatchN (None, None, None, 7 288         concatenate_783[0][0]            \n",
            "__________________________________________________________________________________________________\n",
            "activation_822 (Activation)     (None, None, None, 7 0           batch_normalization_823[0][0]    \n",
            "__________________________________________________________________________________________________\n",
            "conv2d_828 (Conv2D)             (None, None, None, 6 3888        activation_822[0][0]             \n",
            "__________________________________________________________________________________________________\n",
            "concatenate_784 (Concatenate)   (None, None, None, 7 0           concatenate_783[0][0]            \n",
            "                                                                 conv2d_828[0][0]                 \n",
            "__________________________________________________________________________________________________\n",
            "batch_normalization_824 (BatchN (None, None, None, 7 312         concatenate_784[0][0]            \n",
            "__________________________________________________________________________________________________\n",
            "activation_823 (Activation)     (None, None, None, 7 0           batch_normalization_824[0][0]    \n",
            "__________________________________________________________________________________________________\n",
            "conv2d_829 (Conv2D)             (None, None, None, 6 4212        activation_823[0][0]             \n",
            "__________________________________________________________________________________________________\n",
            "concatenate_785 (Concatenate)   (None, None, None, 8 0           concatenate_784[0][0]            \n",
            "                                                                 conv2d_829[0][0]                 \n",
            "__________________________________________________________________________________________________\n",
            "batch_normalization_825 (BatchN (None, None, None, 8 336         concatenate_785[0][0]            \n",
            "__________________________________________________________________________________________________\n",
            "activation_824 (Activation)     (None, None, None, 8 0           batch_normalization_825[0][0]    \n",
            "__________________________________________________________________________________________________\n",
            "conv2d_830 (Conv2D)             (None, None, None, 6 4536        activation_824[0][0]             \n",
            "__________________________________________________________________________________________________\n",
            "concatenate_786 (Concatenate)   (None, None, None, 9 0           concatenate_785[0][0]            \n",
            "                                                                 conv2d_830[0][0]                 \n",
            "__________________________________________________________________________________________________\n",
            "batch_normalization_826 (BatchN (None, None, None, 9 360         concatenate_786[0][0]            \n",
            "__________________________________________________________________________________________________\n",
            "activation_825 (Activation)     (None, None, None, 9 0           batch_normalization_826[0][0]    \n",
            "__________________________________________________________________________________________________\n",
            "conv2d_831 (Conv2D)             (None, None, None, 6 4860        activation_825[0][0]             \n",
            "__________________________________________________________________________________________________\n",
            "concatenate_787 (Concatenate)   (None, None, None, 9 0           concatenate_786[0][0]            \n",
            "                                                                 conv2d_831[0][0]                 \n",
            "__________________________________________________________________________________________________\n",
            "batch_normalization_827 (BatchN (None, None, None, 9 384         concatenate_787[0][0]            \n",
            "__________________________________________________________________________________________________\n",
            "activation_826 (Activation)     (None, None, None, 9 0           batch_normalization_827[0][0]    \n",
            "__________________________________________________________________________________________________\n",
            "conv2d_832 (Conv2D)             (None, None, None, 6 5184        activation_826[0][0]             \n",
            "__________________________________________________________________________________________________\n",
            "concatenate_788 (Concatenate)   (None, None, None, 1 0           concatenate_787[0][0]            \n",
            "                                                                 conv2d_832[0][0]                 \n",
            "__________________________________________________________________________________________________\n",
            "batch_normalization_828 (BatchN (None, None, None, 1 408         concatenate_788[0][0]            \n",
            "__________________________________________________________________________________________________\n",
            "activation_827 (Activation)     (None, None, None, 1 0           batch_normalization_828[0][0]    \n",
            "__________________________________________________________________________________________________\n",
            "conv2d_833 (Conv2D)             (None, None, None, 6 5508        activation_827[0][0]             \n",
            "__________________________________________________________________________________________________\n",
            "concatenate_789 (Concatenate)   (None, None, None, 1 0           concatenate_788[0][0]            \n",
            "                                                                 conv2d_833[0][0]                 \n",
            "__________________________________________________________________________________________________\n",
            "batch_normalization_829 (BatchN (None, None, None, 1 432         concatenate_789[0][0]            \n",
            "__________________________________________________________________________________________________\n",
            "activation_828 (Activation)     (None, None, None, 1 0           batch_normalization_829[0][0]    \n",
            "__________________________________________________________________________________________________\n",
            "conv2d_834 (Conv2D)             (None, None, None, 6 5832        activation_828[0][0]             \n",
            "__________________________________________________________________________________________________\n",
            "concatenate_790 (Concatenate)   (None, None, None, 1 0           concatenate_789[0][0]            \n",
            "                                                                 conv2d_834[0][0]                 \n",
            "__________________________________________________________________________________________________\n",
            "batch_normalization_830 (BatchN (None, None, None, 1 456         concatenate_790[0][0]            \n",
            "__________________________________________________________________________________________________\n",
            "activation_829 (Activation)     (None, None, None, 1 0           batch_normalization_830[0][0]    \n",
            "__________________________________________________________________________________________________\n",
            "conv2d_835 (Conv2D)             (None, None, None, 6 6156        activation_829[0][0]             \n",
            "__________________________________________________________________________________________________\n",
            "concatenate_791 (Concatenate)   (None, None, None, 1 0           concatenate_790[0][0]            \n",
            "                                                                 conv2d_835[0][0]                 \n",
            "__________________________________________________________________________________________________\n",
            "batch_normalization_831 (BatchN (None, None, None, 1 480         concatenate_791[0][0]            \n",
            "__________________________________________________________________________________________________\n",
            "activation_830 (Activation)     (None, None, None, 1 0           batch_normalization_831[0][0]    \n",
            "__________________________________________________________________________________________________\n",
            "conv2d_836 (Conv2D)             (None, None, None, 6 6480        activation_830[0][0]             \n",
            "__________________________________________________________________________________________________\n",
            "concatenate_792 (Concatenate)   (None, None, None, 1 0           concatenate_791[0][0]            \n",
            "                                                                 conv2d_836[0][0]                 \n",
            "__________________________________________________________________________________________________\n",
            "batch_normalization_832 (BatchN (None, None, None, 1 504         concatenate_792[0][0]            \n",
            "__________________________________________________________________________________________________\n",
            "activation_831 (Activation)     (None, None, None, 1 0           batch_normalization_832[0][0]    \n",
            "__________________________________________________________________________________________________\n",
            "conv2d_837 (Conv2D)             (None, None, None, 1 12700       activation_831[0][0]             \n",
            "__________________________________________________________________________________________________\n",
            "global_average_pooling2d_2 (Glo (None, 100)          0           conv2d_837[0][0]                 \n",
            "__________________________________________________________________________________________________\n",
            "dense_6 (Dense)                 (None, 10)           1010        global_average_pooling2d_2[0][0] \n",
            "==================================================================================================\n",
            "Total params: 317,658\n",
            "Trainable params: 306,318\n",
            "Non-trainable params: 11,340\n",
            "__________________________________________________________________________________________________\n"
          ],
          "name": "stdout"
        }
      ]
    },
    {
      "metadata": {
        "id": "b4XOsW3ahSkL",
        "colab_type": "code",
        "colab": {
          "autoexec": {
            "startup": false,
            "wait_interval": 0
          }
        }
      },
      "cell_type": "code",
      "source": [
        "# determine Loss function and Optimizer\n",
        "model.compile(loss='categorical_crossentropy',\n",
        "              optimizer=keras.optimizers.SGD(lr=0.1),\n",
        "              metrics=['accuracy'])\n"
      ],
      "execution_count": 0,
      "outputs": []
    },
    {
      "metadata": {
        "id": "crhGk7kEhXAz",
        "colab_type": "code",
        "colab": {
          "autoexec": {
            "startup": false,
            "wait_interval": 0
          },
          "base_uri": "https://localhost:8080/",
          "height": 445
        },
        "outputId": "289e0072-613f-408e-cb51-154e16993716",
        "executionInfo": {
          "status": "ok",
          "timestamp": 1526019396300,
          "user_tz": -330,
          "elapsed": 1729827,
          "user": {
            "displayName": "superamazingguy com",
            "photoUrl": "https://lh3.googleusercontent.com/a/default-user=s128",
            "userId": "112366938353895998470"
          }
        }
      },
      "cell_type": "code",
      "source": [
        "# model.fit(x_train, y_train,\n",
        "#                     batch_size=batch_size,\n",
        "#                     epochs=epochs,\n",
        "#                     verbose=1,\n",
        "#                     validation_data=(x_test, y_test))\n",
        "train_datagen=ImageDataGenerator(rescale=1./255,\n",
        "shear_range=0.2,\n",
        "zoom_range=0.2,horizontal_flip=True)\n",
        "val_datagen = ImageDataGenerator(rescale=1./255)\n",
        "model.fit_generator(train_datagen.flow(x_train_resized, y_train, batch_size=batch_size),\n",
        "                    samples_per_epoch=len(x_train_resized) , epochs=10,\n",
        "                   validation_data=val_datagen.flow(x_test_resized,y_test,batch_size=val_batch_size)\n",
        "                   ,verbose=1)"
      ],
      "execution_count": 50,
      "outputs": [
        {
          "output_type": "stream",
          "text": [
            "/usr/local/lib/python3.6/dist-packages/ipykernel_launcher.py:8: UserWarning: Update your `fit_generator` call to the Keras 2 API: `fit_generator(<keras.pre..., epochs=10, validation_data=<keras.pre..., verbose=1, steps_per_epoch=390)`\n",
            "  \n"
          ],
          "name": "stderr"
        },
        {
          "output_type": "stream",
          "text": [
            "Epoch 1/10\n",
            "390/390 [==============================] - 227s 582ms/step - loss: 1.7082 - acc: 0.3617 - val_loss: 1.5921 - val_acc: 0.4131\n",
            "Epoch 2/10\n",
            "280/390 [====================>.........] - ETA: 43s - loss: 1.4367 - acc: 0.4725"
          ],
          "name": "stdout"
        },
        {
          "output_type": "stream",
          "text": [
            "390/390 [==============================] - 167s 428ms/step - loss: 1.4176 - acc: 0.4807 - val_loss: 1.5709 - val_acc: 0.4471\n",
            "Epoch 3/10\n",
            "390/390 [==============================] - 166s 426ms/step - loss: 1.2770 - acc: 0.5360 - val_loss: 1.7535 - val_acc: 0.4346\n",
            "Epoch 4/10\n",
            " 17/390 [>.............................] - ETA: 2:32 - loss: 1.1983 - acc: 0.5685"
          ],
          "name": "stdout"
        },
        {
          "output_type": "stream",
          "text": [
            "390/390 [==============================] - 167s 427ms/step - loss: 1.1765 - acc: 0.5764 - val_loss: 1.4911 - val_acc: 0.4822\n",
            "Epoch 5/10\n",
            "321/390 [=======================>......] - ETA: 27s - loss: 1.1025 - acc: 0.6065"
          ],
          "name": "stdout"
        },
        {
          "output_type": "stream",
          "text": [
            "390/390 [==============================] - 166s 425ms/step - loss: 1.0962 - acc: 0.6083 - val_loss: 1.3686 - val_acc: 0.5274\n",
            "Epoch 6/10\n",
            "390/390 [==============================] - 166s 426ms/step - loss: 1.0272 - acc: 0.6343 - val_loss: 1.1751 - val_acc: 0.5860\n",
            "Epoch 7/10\n",
            " 26/390 [=>............................] - ETA: 2:24 - loss: 0.9917 - acc: 0.6514"
          ],
          "name": "stdout"
        },
        {
          "output_type": "stream",
          "text": [
            "390/390 [==============================] - 166s 424ms/step - loss: 0.9664 - acc: 0.6551 - val_loss: 1.5432 - val_acc: 0.5194\n",
            "Epoch 8/10\n",
            "324/390 [=======================>......] - ETA: 26s - loss: 0.9239 - acc: 0.6712"
          ],
          "name": "stdout"
        },
        {
          "output_type": "stream",
          "text": [
            "390/390 [==============================] - 166s 426ms/step - loss: 0.9184 - acc: 0.6727 - val_loss: 1.1719 - val_acc: 0.6089\n",
            "Epoch 9/10\n",
            "390/390 [==============================] - 165s 424ms/step - loss: 0.8749 - acc: 0.6892 - val_loss: 1.1652 - val_acc: 0.6136\n",
            "Epoch 10/10\n",
            " 27/390 [=>............................] - ETA: 2:21 - loss: 0.8338 - acc: 0.7034"
          ],
          "name": "stdout"
        },
        {
          "output_type": "stream",
          "text": [
            "390/390 [==============================] - 165s 424ms/step - loss: 0.8422 - acc: 0.7023 - val_loss: 1.1013 - val_acc: 0.6377\n"
          ],
          "name": "stdout"
        },
        {
          "output_type": "execute_result",
          "data": {
            "text/plain": [
              "<keras.callbacks.History at 0x7f6a93486ba8>"
            ]
          },
          "metadata": {
            "tags": []
          },
          "execution_count": 50
        }
      ]
    },
    {
      "metadata": {
        "id": "5aWUewuvVkD2",
        "colab_type": "code",
        "colab": {
          "autoexec": {
            "startup": false,
            "wait_interval": 0
          },
          "base_uri": "https://localhost:8080/",
          "height": 623
        },
        "outputId": "98e098ff-7cd3-4c68-cbeb-e86459789880",
        "executionInfo": {
          "status": "ok",
          "timestamp": 1526023519520,
          "user_tz": -330,
          "elapsed": 4123197,
          "user": {
            "displayName": "superamazingguy com",
            "photoUrl": "https://lh3.googleusercontent.com/a/default-user=s128",
            "userId": "112366938353895998470"
          }
        }
      },
      "cell_type": "code",
      "source": [
        "model.compile(loss='categorical_crossentropy',\n",
        "              optimizer=keras.optimizers.SGD(lr=0.1),\n",
        "              metrics=['accuracy'])\n",
        "\n",
        "train_datagen=ImageDataGenerator(rescale=1./255,\n",
        "shear_range=0.2,\n",
        "zoom_range=0.2,horizontal_flip=True)\n",
        "val_datagen = ImageDataGenerator(rescale=1./255)\n",
        "model.fit_generator(train_datagen.flow(x_train, y_train, batch_size=batch_size),\n",
        "                    samples_per_epoch=len(x_train) , epochs=15,\n",
        "                   validation_data=val_datagen.flow(x_test,y_test,batch_size=val_batch_size)\n",
        "                   ,verbose=1)\n",
        "# determine Loss function and Optimizer\n"
      ],
      "execution_count": 51,
      "outputs": [
        {
          "output_type": "stream",
          "text": [
            "/usr/local/lib/python3.6/dist-packages/ipykernel_launcher.py:12: UserWarning: Update your `fit_generator` call to the Keras 2 API: `fit_generator(<keras.pre..., epochs=15, validation_data=<keras.pre..., verbose=1, steps_per_epoch=390)`\n",
            "  if sys.path[0] == '':\n"
          ],
          "name": "stderr"
        },
        {
          "output_type": "stream",
          "text": [
            "Epoch 1/15\n",
            "390/390 [==============================] - 298s 764ms/step - loss: 0.8070 - acc: 0.7154 - val_loss: 0.8654 - val_acc: 0.7093\n",
            "Epoch 2/15\n",
            "280/390 [====================>.........] - ETA: 1:10 - loss: 0.7567 - acc: 0.7333"
          ],
          "name": "stdout"
        },
        {
          "output_type": "stream",
          "text": [
            "390/390 [==============================] - 272s 698ms/step - loss: 0.7502 - acc: 0.7359 - val_loss: 0.8907 - val_acc: 0.7004\n",
            "Epoch 3/15\n",
            "390/390 [==============================] - 272s 699ms/step - loss: 0.7049 - acc: 0.7543 - val_loss: 0.9146 - val_acc: 0.7020\n",
            "Epoch 4/15\n",
            " 17/390 [>.............................] - ETA: 3:58 - loss: 0.6616 - acc: 0.7734"
          ],
          "name": "stdout"
        },
        {
          "output_type": "stream",
          "text": [
            "390/390 [==============================] - 272s 698ms/step - loss: 0.6744 - acc: 0.7628 - val_loss: 0.9179 - val_acc: 0.6993\n",
            "Epoch 5/15\n",
            "320/390 [=======================>......] - ETA: 44s - loss: 0.6475 - acc: 0.7751"
          ],
          "name": "stdout"
        },
        {
          "output_type": "stream",
          "text": [
            "390/390 [==============================] - 273s 700ms/step - loss: 0.6441 - acc: 0.7766 - val_loss: 1.0036 - val_acc: 0.6769\n",
            "Epoch 6/15\n",
            "390/390 [==============================] - 273s 699ms/step - loss: 0.6254 - acc: 0.7809 - val_loss: 0.7173 - val_acc: 0.7498\n",
            "Epoch 7/15\n",
            " 26/390 [=>............................] - ETA: 3:52 - loss: 0.5912 - acc: 0.7861"
          ],
          "name": "stdout"
        },
        {
          "output_type": "stream",
          "text": [
            "390/390 [==============================] - 273s 699ms/step - loss: 0.6006 - acc: 0.7893 - val_loss: 0.7218 - val_acc: 0.7482\n",
            "Epoch 8/15\n",
            "324/390 [=======================>......] - ETA: 42s - loss: 0.5869 - acc: 0.7955"
          ],
          "name": "stdout"
        },
        {
          "output_type": "stream",
          "text": [
            "390/390 [==============================] - 273s 700ms/step - loss: 0.5869 - acc: 0.7963 - val_loss: 0.9578 - val_acc: 0.6947\n",
            "Epoch 9/15\n",
            "390/390 [==============================] - 273s 700ms/step - loss: 0.5664 - acc: 0.8027 - val_loss: 0.8783 - val_acc: 0.7196\n",
            "Epoch 10/15\n",
            " 27/390 [=>............................] - ETA: 3:50 - loss: 0.5549 - acc: 0.8070"
          ],
          "name": "stdout"
        },
        {
          "output_type": "stream",
          "text": [
            "390/390 [==============================] - 273s 699ms/step - loss: 0.5528 - acc: 0.8076 - val_loss: 0.6815 - val_acc: 0.7668\n",
            "Epoch 11/15\n",
            "323/390 [=======================>......] - ETA: 42s - loss: 0.5415 - acc: 0.8106"
          ],
          "name": "stdout"
        },
        {
          "output_type": "stream",
          "text": [
            "390/390 [==============================] - 273s 700ms/step - loss: 0.5386 - acc: 0.8120 - val_loss: 0.6799 - val_acc: 0.7674\n",
            "Epoch 12/15\n",
            "390/390 [==============================] - 273s 699ms/step - loss: 0.5265 - acc: 0.8185 - val_loss: 0.6178 - val_acc: 0.7891\n",
            "Epoch 13/15\n",
            " 25/390 [>.............................] - ETA: 3:52 - loss: 0.5245 - acc: 0.8137"
          ],
          "name": "stdout"
        },
        {
          "output_type": "stream",
          "text": [
            "390/390 [==============================] - 273s 699ms/step - loss: 0.5165 - acc: 0.8186 - val_loss: 0.6150 - val_acc: 0.7872\n",
            "Epoch 14/15\n",
            "322/390 [=======================>......] - ETA: 43s - loss: 0.4961 - acc: 0.8290"
          ],
          "name": "stdout"
        },
        {
          "output_type": "stream",
          "text": [
            "390/390 [==============================] - 273s 700ms/step - loss: 0.4995 - acc: 0.8272 - val_loss: 0.7869 - val_acc: 0.7448\n",
            "Epoch 15/15\n",
            "390/390 [==============================] - 272s 697ms/step - loss: 0.4898 - acc: 0.8285 - val_loss: 0.8649 - val_acc: 0.7198\n"
          ],
          "name": "stdout"
        },
        {
          "output_type": "execute_result",
          "data": {
            "text/plain": [
              "<keras.callbacks.History at 0x7f6a89fccb00>"
            ]
          },
          "metadata": {
            "tags": []
          },
          "execution_count": 51
        }
      ]
    },
    {
      "metadata": {
        "id": "rzMO8f9cWCIo",
        "colab_type": "code",
        "colab": {
          "autoexec": {
            "startup": false,
            "wait_interval": 0
          },
          "base_uri": "https://localhost:8080/",
          "height": 516
        },
        "outputId": "68a36c48-cd27-422b-b792-cf450a4e415b",
        "executionInfo": {
          "status": "ok",
          "timestamp": 1526028154396,
          "user_tz": -330,
          "elapsed": 3304581,
          "user": {
            "displayName": "superamazingguy com",
            "photoUrl": "https://lh3.googleusercontent.com/a/default-user=s128",
            "userId": "112366938353895998470"
          }
        }
      },
      "cell_type": "code",
      "source": [
        "model.compile(loss='categorical_crossentropy',\n",
        "              optimizer=keras.optimizers.SGD(lr=0.01),\n",
        "              metrics=['accuracy'])\n",
        "\n",
        "train_datagen=ImageDataGenerator(rescale=1./255,\n",
        "shear_range=0.2,\n",
        "zoom_range=0.2,horizontal_flip=True)\n",
        "val_datagen = ImageDataGenerator(rescale=1./255)\n",
        "model.fit_generator(train_datagen.flow(x_train, y_train, batch_size=batch_size),\n",
        "                    samples_per_epoch=len(x_train) , epochs=12,\n",
        "                   validation_data=val_datagen.flow(x_test,y_test,batch_size=val_batch_size)\n",
        "                   ,verbose=1)\n",
        "# determine Loss function and Optimizer"
      ],
      "execution_count": 52,
      "outputs": [
        {
          "output_type": "stream",
          "text": [
            "/usr/local/lib/python3.6/dist-packages/ipykernel_launcher.py:12: UserWarning: Update your `fit_generator` call to the Keras 2 API: `fit_generator(<keras.pre..., epochs=12, validation_data=<keras.pre..., verbose=1, steps_per_epoch=390)`\n",
            "  if sys.path[0] == '':\n"
          ],
          "name": "stderr"
        },
        {
          "output_type": "stream",
          "text": [
            "Epoch 1/12\n",
            "390/390 [==============================] - 297s 761ms/step - loss: 0.4209 - acc: 0.8537 - val_loss: 0.5117 - val_acc: 0.8230\n",
            "Epoch 2/12\n",
            "280/390 [====================>.........] - ETA: 1:10 - loss: 0.4078 - acc: 0.8573"
          ],
          "name": "stdout"
        },
        {
          "output_type": "stream",
          "text": [
            "390/390 [==============================] - 273s 700ms/step - loss: 0.4046 - acc: 0.8586 - val_loss: 0.5079 - val_acc: 0.8253\n",
            "Epoch 3/12\n",
            "390/390 [==============================] - 273s 700ms/step - loss: 0.4004 - acc: 0.8612 - val_loss: 0.4831 - val_acc: 0.8319\n",
            "Epoch 4/12\n",
            " 17/390 [>.............................] - ETA: 4:00 - loss: 0.3761 - acc: 0.8667"
          ],
          "name": "stdout"
        },
        {
          "output_type": "stream",
          "text": [
            "390/390 [==============================] - 273s 700ms/step - loss: 0.3910 - acc: 0.8644 - val_loss: 0.4903 - val_acc: 0.8318\n",
            "Epoch 5/12\n",
            "320/390 [=======================>......] - ETA: 44s - loss: 0.3818 - acc: 0.8682"
          ],
          "name": "stdout"
        },
        {
          "output_type": "stream",
          "text": [
            "390/390 [==============================] - 273s 699ms/step - loss: 0.3833 - acc: 0.8675 - val_loss: 0.5009 - val_acc: 0.8308\n",
            "Epoch 6/12\n",
            "390/390 [==============================] - 272s 698ms/step - loss: 0.3845 - acc: 0.8666 - val_loss: 0.5090 - val_acc: 0.8277\n",
            "Epoch 7/12\n",
            " 26/390 [=>............................] - ETA: 3:51 - loss: 0.3924 - acc: 0.8642"
          ],
          "name": "stdout"
        },
        {
          "output_type": "stream",
          "text": [
            "390/390 [==============================] - 272s 698ms/step - loss: 0.3827 - acc: 0.8661 - val_loss: 0.4942 - val_acc: 0.8336\n",
            "Epoch 8/12\n",
            "324/390 [=======================>......] - ETA: 42s - loss: 0.3802 - acc: 0.8679"
          ],
          "name": "stdout"
        },
        {
          "output_type": "stream",
          "text": [
            "390/390 [==============================] - 272s 697ms/step - loss: 0.3796 - acc: 0.8688 - val_loss: 0.4900 - val_acc: 0.8325\n",
            "Epoch 9/12\n",
            "390/390 [==============================] - 273s 700ms/step - loss: 0.3763 - acc: 0.8697 - val_loss: 0.5261 - val_acc: 0.8240\n",
            "Epoch 10/12\n",
            " 27/390 [=>............................] - ETA: 3:52 - loss: 0.3817 - acc: 0.8689"
          ],
          "name": "stdout"
        },
        {
          "output_type": "stream",
          "text": [
            "390/390 [==============================] - 272s 699ms/step - loss: 0.3727 - acc: 0.8718 - val_loss: 0.4971 - val_acc: 0.8332\n",
            "Epoch 11/12\n",
            "323/390 [=======================>......] - ETA: 42s - loss: 0.3712 - acc: 0.8705"
          ],
          "name": "stdout"
        },
        {
          "output_type": "stream",
          "text": [
            "390/390 [==============================] - 273s 699ms/step - loss: 0.3698 - acc: 0.8708 - val_loss: 0.4963 - val_acc: 0.8348\n",
            "Epoch 12/12\n",
            "390/390 [==============================] - 273s 699ms/step - loss: 0.3711 - acc: 0.8724 - val_loss: 0.4729 - val_acc: 0.8392\n"
          ],
          "name": "stdout"
        },
        {
          "output_type": "execute_result",
          "data": {
            "text/plain": [
              "<keras.callbacks.History at 0x7f6a8a0efa20>"
            ]
          },
          "metadata": {
            "tags": []
          },
          "execution_count": 52
        }
      ]
    },
    {
      "metadata": {
        "id": "Xlnzd2P-X7ko",
        "colab_type": "code",
        "colab": {
          "autoexec": {
            "startup": false,
            "wait_interval": 0
          },
          "base_uri": "https://localhost:8080/",
          "height": 338
        },
        "outputId": "fce8dae6-225a-4300-c7ec-ab08da76188e",
        "executionInfo": {
          "status": "ok",
          "timestamp": 1526030232157,
          "user_tz": -330,
          "elapsed": 1932968,
          "user": {
            "displayName": "superamazingguy com",
            "photoUrl": "https://lh3.googleusercontent.com/a/default-user=s128",
            "userId": "112366938353895998470"
          }
        }
      },
      "cell_type": "code",
      "source": [
        "model.compile(loss='categorical_crossentropy',\n",
        "              optimizer=keras.optimizers.SGD(lr=0.001),\n",
        "              metrics=['accuracy'])\n",
        "\n",
        "train_datagen=ImageDataGenerator(rescale=1./255,\n",
        "shear_range=0.2,\n",
        "zoom_range=0.2,horizontal_flip=True)\n",
        "val_datagen = ImageDataGenerator(rescale=1./255)\n",
        "model.fit_generator(train_datagen.flow(x_train, y_train, batch_size=batch_size),\n",
        "                    samples_per_epoch=len(x_train) , epochs=7,\n",
        "                   validation_data=val_datagen.flow(x_test,y_test,batch_size=val_batch_size)\n",
        "                   ,verbose=1)\n",
        "# determine Loss function and Optimizer"
      ],
      "execution_count": 53,
      "outputs": [
        {
          "output_type": "stream",
          "text": [
            "/usr/local/lib/python3.6/dist-packages/ipykernel_launcher.py:12: UserWarning: Update your `fit_generator` call to the Keras 2 API: `fit_generator(<keras.pre..., epochs=7, validation_data=<keras.pre..., verbose=1, steps_per_epoch=390)`\n",
            "  if sys.path[0] == '':\n"
          ],
          "name": "stderr"
        },
        {
          "output_type": "stream",
          "text": [
            "Epoch 1/7\n",
            "390/390 [==============================] - 296s 759ms/step - loss: 0.3622 - acc: 0.8752 - val_loss: 0.4785 - val_acc: 0.8383\n",
            "Epoch 2/7\n",
            "284/390 [====================>.........] - ETA: 1:07 - loss: 0.3580 - acc: 0.8748"
          ],
          "name": "stdout"
        },
        {
          "output_type": "stream",
          "text": [
            "390/390 [==============================] - 272s 697ms/step - loss: 0.3604 - acc: 0.8742 - val_loss: 0.4763 - val_acc: 0.8401\n",
            "Epoch 3/7\n",
            "390/390 [==============================] - 271s 694ms/step - loss: 0.3609 - acc: 0.8757 - val_loss: 0.4774 - val_acc: 0.8386\n",
            "Epoch 4/7\n",
            " 19/390 [>.............................] - ETA: 3:59 - loss: 0.3544 - acc: 0.8750"
          ],
          "name": "stdout"
        },
        {
          "output_type": "stream",
          "text": [
            "390/390 [==============================] - 271s 695ms/step - loss: 0.3614 - acc: 0.8752 - val_loss: 0.4785 - val_acc: 0.8386\n",
            "Epoch 5/7\n",
            "323/390 [=======================>......] - ETA: 42s - loss: 0.3611 - acc: 0.8731"
          ],
          "name": "stdout"
        },
        {
          "output_type": "stream",
          "text": [
            "390/390 [==============================] - 271s 696ms/step - loss: 0.3595 - acc: 0.8744 - val_loss: 0.4798 - val_acc: 0.8385\n",
            "Epoch 6/7\n",
            "390/390 [==============================] - 272s 698ms/step - loss: 0.3565 - acc: 0.8764 - val_loss: 0.4815 - val_acc: 0.8368\n",
            "Epoch 7/7\n",
            " 28/390 [=>............................] - ETA: 3:50 - loss: 0.3587 - acc: 0.8806"
          ],
          "name": "stdout"
        },
        {
          "output_type": "stream",
          "text": [
            "390/390 [==============================] - 272s 697ms/step - loss: 0.3589 - acc: 0.8753 - val_loss: 0.4769 - val_acc: 0.8388\n"
          ],
          "name": "stdout"
        },
        {
          "output_type": "execute_result",
          "data": {
            "text/plain": [
              "<keras.callbacks.History at 0x7f69bf0e5518>"
            ]
          },
          "metadata": {
            "tags": []
          },
          "execution_count": 53
        }
      ]
    },
    {
      "metadata": {
        "id": "AZ03ns5W1cxB",
        "colab_type": "code",
        "colab": {
          "autoexec": {
            "startup": false,
            "wait_interval": 0
          },
          "base_uri": "https://localhost:8080/",
          "height": 52
        },
        "outputId": "dbec7f9d-f5bf-420f-a64b-6fec633d8977",
        "executionInfo": {
          "status": "ok",
          "timestamp": 1526030265976,
          "user_tz": -330,
          "elapsed": 30547,
          "user": {
            "displayName": "superamazingguy com",
            "photoUrl": "https://lh3.googleusercontent.com/a/default-user=s128",
            "userId": "112366938353895998470"
          }
        }
      },
      "cell_type": "code",
      "source": [
        "model.evaluate(x_test/255.0,y_test,verbose=1)"
      ],
      "execution_count": 54,
      "outputs": [
        {
          "output_type": "stream",
          "text": [
            "10000/10000 [==============================] - 29s 3ms/step\n"
          ],
          "name": "stdout"
        },
        {
          "output_type": "execute_result",
          "data": {
            "text/plain": [
              "[0.47685202322006226, 0.8388]"
            ]
          },
          "metadata": {
            "tags": []
          },
          "execution_count": 54
        }
      ]
    },
    {
      "metadata": {
        "id": "xkaeGlhIfaAM",
        "colab_type": "code",
        "colab": {
          "autoexec": {
            "startup": false,
            "wait_interval": 0
          },
          "base_uri": "https://localhost:8080/",
          "height": 52
        },
        "outputId": "ab0b7d33-551c-4b91-e459-a327e8ebfdd0",
        "executionInfo": {
          "status": "ok",
          "timestamp": 1526030733802,
          "user_tz": -330,
          "elapsed": 19607,
          "user": {
            "displayName": "superamazingguy com",
            "photoUrl": "https://lh3.googleusercontent.com/a/default-user=s128",
            "userId": "112366938353895998470"
          }
        }
      },
      "cell_type": "code",
      "source": [
        "model.evaluate(x_test_resized/255.0,y_test,verbose=1)\n"
      ],
      "execution_count": 61,
      "outputs": [
        {
          "output_type": "stream",
          "text": [
            "10000/10000 [==============================] - 18s 2ms/step\n"
          ],
          "name": "stdout"
        },
        {
          "output_type": "execute_result",
          "data": {
            "text/plain": [
              "[0.7252554464817047, 0.7658]"
            ]
          },
          "metadata": {
            "tags": []
          },
          "execution_count": 61
        }
      ]
    },
    {
      "metadata": {
        "id": "979yq_z1gF6J",
        "colab_type": "code",
        "colab": {
          "autoexec": {
            "startup": false,
            "wait_interval": 0
          },
          "base_uri": "https://localhost:8080/",
          "height": 107
        },
        "outputId": "b343c8c0-c5e0-49ad-cf58-e4bac1dffb3d",
        "executionInfo": {
          "status": "ok",
          "timestamp": 1526030746408,
          "user_tz": -330,
          "elapsed": 2956,
          "user": {
            "displayName": "superamazingguy com",
            "photoUrl": "https://lh3.googleusercontent.com/a/default-user=s128",
            "userId": "112366938353895998470"
          }
        }
      },
      "cell_type": "code",
      "source": [
        "\n",
        "x_test_expanded=np.array([scipy.misc.imresize(img,(64,64)) for img in x_test])\n"
      ],
      "execution_count": 62,
      "outputs": [
        {
          "output_type": "stream",
          "text": [
            "/usr/local/lib/python3.6/dist-packages/scipy/misc/pilutil.py:482: FutureWarning: Conversion of the second argument of issubdtype from `int` to `np.signedinteger` is deprecated. In future, it will be treated as `np.int64 == np.dtype(int).type`.\n",
            "  if issubdtype(ts, int):\n",
            "/usr/local/lib/python3.6/dist-packages/scipy/misc/pilutil.py:485: FutureWarning: Conversion of the second argument of issubdtype from `float` to `np.floating` is deprecated. In future, it will be treated as `np.float64 == np.dtype(float).type`.\n",
            "  elif issubdtype(type(size), float):\n"
          ],
          "name": "stderr"
        }
      ]
    },
    {
      "metadata": {
        "id": "ekgCmcYlgQgY",
        "colab_type": "code",
        "colab": {
          "autoexec": {
            "startup": false,
            "wait_interval": 0
          },
          "base_uri": "https://localhost:8080/",
          "height": 52
        },
        "outputId": "d0847037-a510-4217-9f75-a0fab612d503",
        "executionInfo": {
          "status": "ok",
          "timestamp": 1526030827147,
          "user_tz": -330,
          "elapsed": 77405,
          "user": {
            "displayName": "superamazingguy com",
            "photoUrl": "https://lh3.googleusercontent.com/a/default-user=s128",
            "userId": "112366938353895998470"
          }
        }
      },
      "cell_type": "code",
      "source": [
        "model.evaluate(x_test_expanded/255.0,y_test,verbose=1)"
      ],
      "execution_count": 63,
      "outputs": [
        {
          "output_type": "stream",
          "text": [
            "10000/10000 [==============================] - 76s 8ms/step\n"
          ],
          "name": "stdout"
        },
        {
          "output_type": "execute_result",
          "data": {
            "text/plain": [
              "[2.693086283111572, 0.2915]"
            ]
          },
          "metadata": {
            "tags": []
          },
          "execution_count": 63
        }
      ]
    },
    {
      "metadata": {
        "id": "ZcWydmIVhZGr",
        "colab_type": "code",
        "colab": {
          "autoexec": {
            "startup": false,
            "wait_interval": 0
          },
          "base_uri": "https://localhost:8080/",
          "height": 70
        },
        "outputId": "90b1517f-6ec5-403e-d3dc-5e3706c1f9d6",
        "executionInfo": {
          "elapsed": 53075,
          "status": "ok",
          "timestamp": 1526002676401,
          "user": {
            "displayName": "Adithya Hosapate",
            "photoUrl": "https://lh3.googleusercontent.com/a/default-user=s128",
            "userId": "109072346189302980527"
          },
          "user_tz": -330
        }
      },
      "cell_type": "code",
      "source": [
        "# Test the model\n",
        "score = model.evaluate(x_test/255.0, y_test, verbose=1)\n",
        "print('Test loss:', score[0])\n",
        "print('Test accuracy:', score[1])"
      ],
      "execution_count": 0,
      "outputs": [
        {
          "output_type": "stream",
          "text": [
            "10000/10000 [==============================] - 52s 5ms/step\n",
            "Test loss: 0.4965174989700317\n",
            "Test accuracy: 0.8409\n"
          ],
          "name": "stdout"
        }
      ]
    },
    {
      "metadata": {
        "id": "UE3lF6EH1r_L",
        "colab_type": "code",
        "colab": {
          "autoexec": {
            "startup": false,
            "wait_interval": 0
          },
          "base_uri": "https://localhost:8080/",
          "height": 34
        },
        "outputId": "03477690-fcb8-40c1-fa89-5817a114421c",
        "executionInfo": {
          "elapsed": 96716,
          "status": "ok",
          "timestamp": 1526002846494,
          "user": {
            "displayName": "Adithya Hosapate",
            "photoUrl": "https://lh3.googleusercontent.com/a/default-user=s128",
            "userId": "109072346189302980527"
          },
          "user_tz": -330
        }
      },
      "cell_type": "code",
      "source": [
        "# Save the trained weights in to .h5 format\n",
        "model.save_weights(\"DNST_model_improved.h5\")\n",
        "print(\"Saved model to disk\")"
      ],
      "execution_count": 0,
      "outputs": [
        {
          "output_type": "stream",
          "text": [
            "Saved model to disk\n"
          ],
          "name": "stdout"
        }
      ]
    },
    {
      "metadata": {
        "id": "ai-yZ2ED5AK1",
        "colab_type": "code",
        "colab": {
          "autoexec": {
            "startup": false,
            "wait_interval": 0
          }
        }
      },
      "cell_type": "code",
      "source": [
        "from google.colab import files\n",
        "\n",
        "files.download('DNST_model_improved.h5')"
      ],
      "execution_count": 0,
      "outputs": []
    },
    {
      "metadata": {
        "id": "sVLMTU923vze",
        "colab_type": "code",
        "colab": {
          "autoexec": {
            "startup": false,
            "wait_interval": 0
          }
        }
      },
      "cell_type": "code",
      "source": [
        ""
      ],
      "execution_count": 0,
      "outputs": []
    },
    {
      "metadata": {
        "id": "MyQA9iFn3x5d",
        "colab_type": "code",
        "colab": {
          "autoexec": {
            "startup": false,
            "wait_interval": 0
          }
        }
      },
      "cell_type": "code",
      "source": [
        ""
      ],
      "execution_count": 0,
      "outputs": []
    },
    {
      "metadata": {
        "id": "Og56VCRh5j8V",
        "colab_type": "code",
        "colab": {
          "autoexec": {
            "startup": false,
            "wait_interval": 0
          }
        }
      },
      "cell_type": "code",
      "source": [
        ""
      ],
      "execution_count": 0,
      "outputs": []
    }
  ]
}